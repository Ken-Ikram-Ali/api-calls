{
 "cells": [
  {
   "cell_type": "markdown",
   "metadata": {},
   "source": [
    "## Program Board Items API calls"
   ]
  },
  {
   "cell_type": "markdown",
   "metadata": {},
   "source": [
    "### 1. Retrieve List of Program Board Items"
   ]
  },
  {
   "cell_type": "code",
   "execution_count": null,
   "metadata": {},
   "outputs": [],
   "source": [
    "# Example Request 1: User want to fetch default fields for a board\n",
    "\n",
    "import json\n",
    "import requests\n",
    "\n",
    "username = \"\"  # add kendis username\n",
    "password = \"\"\n",
    "\n",
    "company_prefix = \"example\"  # add your company prefix\n",
    "board_id = \"6756b1b0216f0c3a2bb8ae6e\"\n",
    "url = f'https://rest.kendis.io/api/{company_prefix}/items'\n",
    "# Define the body as a Python dictionary\n",
    "payload = {\n",
    "    \"boardId\": board_id\n",
    "}\n",
    "\n",
    "# Convert the dictionary to a raw JSON string\n",
    "raw_json_body = json.dumps(payload)\n",
    "# Send the GET request with Basic Auth\n",
    "response = requests.post(url, data=raw_json_body, auth=(username, password), headers={\"Content-Type\": \"application/json\"})\n",
    "# Check the response\n",
    "if response.status_code == 200:\n",
    "    # Successfully retrieved data\n",
    "    items_data = response.json()  # Parse JSON response\n",
    "    print(\"Data retrieved successfully:\")\n",
    "    print(items_data)\n",
    "else:\n",
    "    # Handle error\n",
    "    print(f\"Failed to retrieve data. HTTP Status Code: {response.status_code}\")\n",
    "    print(\"Response content:\", response.text)"
   ]
  },
  {
   "cell_type": "code",
   "execution_count": null,
   "metadata": {},
   "outputs": [],
   "source": [
    "items_data['data']"
   ]
  },
  {
   "cell_type": "code",
   "execution_count": null,
   "metadata": {},
   "outputs": [],
   "source": [
    "# Example Request 2: If users want 20 features and their children on page 1.\n",
    "\n",
    "import json\n",
    "import requests\n",
    "\n",
    "url = f'https://rest.kendis.io/api/{company_prefix}/items'\n",
    "# Define the body as a Python dictionary\n",
    "payload = {\n",
    "    \"boardId\": board_id,\n",
    "   \"pageStart\" : 1,\n",
    "   \"pageSize\" : 20,\n",
    "   \"fields\":[\"children\"]\n",
    "}\n",
    "\n",
    "# Convert the dictionary to a raw JSON string\n",
    "raw_json_body = json.dumps(payload)\n",
    "# Send the GET request with Basic Auth\n",
    "response = requests.post(url, data=raw_json_body, auth=(username, password), headers={\"Content-Type\": \"application/json\"})\n",
    "# Check the response\n",
    "if response.status_code == 200:\n",
    "    # Successfully retrieved data\n",
    "    items_data = response.json()  # Parse JSON response\n",
    "    print(\"Data retrieved successfully:\")\n",
    "    print(items_data)\n",
    "else:\n",
    "    # Handle error\n",
    "    print(f\"Failed to retrieve data. HTTP Status Code: {response.status_code}\")\n",
    "    print(\"Response content:\", response.text)"
   ]
  },
  {
   "cell_type": "code",
   "execution_count": null,
   "metadata": {},
   "outputs": [],
   "source": [
    "items_data['data']"
   ]
  },
  {
   "cell_type": "code",
   "execution_count": null,
   "metadata": {},
   "outputs": [],
   "source": [
    "# Example Request 3: If users want only selective fields they can use the following format in Body as JSON\n",
    "\n",
    "import json\n",
    "import requests\n",
    "\n",
    "url = f'https://rest.kendis.io/api/{company_prefix}/items'\n",
    "# Define the body as a Python dictionary\n",
    "payload = {\n",
    "    \"boardId\": board_id,\n",
    "    \"fields\":[\"createdOn\",\"cardType\",\"itemType\",\"iterationPath\"],\n",
    "    \"pageStart\" : 1,\n",
    "    \"pageSize\" : 20\n",
    "}\n",
    "\n",
    "# Convert the dictionary to a raw JSON string\n",
    "raw_json_body = json.dumps(payload)\n",
    "# Send the GET request with Basic Auth\n",
    "response = requests.post(url, data=raw_json_body, auth=(username, password), headers={\"Content-Type\": \"application/json\"})\n",
    "# Check the response\n",
    "if response.status_code == 200:\n",
    "    # Successfully retrieved data\n",
    "    items_data = response.json()  # Parse JSON response\n",
    "    print(\"Data retrieved successfully:\")\n",
    "    print(items_data)\n",
    "else:\n",
    "    # Handle error\n",
    "    print(f\"Failed to retrieve data. HTTP Status Code: {response.status_code}\")\n",
    "    print(\"Response content:\", response.text)"
   ]
  },
  {
   "cell_type": "code",
   "execution_count": null,
   "metadata": {},
   "outputs": [],
   "source": [
    "items_data['data']"
   ]
  },
  {
   "cell_type": "markdown",
   "metadata": {},
   "source": [
    "### 2. Retrieve Meta for Sprints"
   ]
  },
  {
   "cell_type": "code",
   "execution_count": null,
   "metadata": {},
   "outputs": [],
   "source": [
    "# Example Request 4\n",
    "\n",
    "import json\n",
    "import requests\n",
    "\n",
    "url = f'https://rest.kendis.io/api/{company_prefix}/sprints'\n",
    "# Define the body as a Python dictionary\n",
    "payload = {\n",
    "    \"boardId\": board_id\n",
    "}\n",
    "\n",
    "# Convert the dictionary to a raw JSON string\n",
    "raw_json_body = json.dumps(payload)\n",
    "# Send the GET request with Basic Auth\n",
    "response = requests.post(url, data=raw_json_body, auth=(username, password), headers={\"Content-Type\": \"application/json\"})\n",
    "# Check the response\n",
    "if response.status_code == 200:\n",
    "    # Successfully retrieved data\n",
    "    items_data = response.json()  # Parse JSON response\n",
    "    print(\"Data retrieved successfully:\")\n",
    "    print(items_data)\n",
    "else:\n",
    "    # Handle error\n",
    "    print(f\"Failed to retrieve data. HTTP Status Code: {response.status_code}\")\n",
    "    print(\"Response content:\", response.text)"
   ]
  },
  {
   "cell_type": "code",
   "execution_count": null,
   "metadata": {},
   "outputs": [],
   "source": [
    "items_data['data']"
   ]
  },
  {
   "cell_type": "markdown",
   "metadata": {},
   "source": [
    "### 3. Retrieve Meta for Teams"
   ]
  },
  {
   "cell_type": "code",
   "execution_count": null,
   "metadata": {},
   "outputs": [],
   "source": [
    "# Example Request 5\n",
    "\n",
    "import json\n",
    "import requests\n",
    "\n",
    "url = f'https://rest.kendis.io/api/{company_prefix}/teams'\n",
    "# Define the body as a Python dictionary\n",
    "payload = {\n",
    "    \"boardId\": board_id\n",
    "}\n",
    "\n",
    "# Convert the dictionary to a raw JSON string\n",
    "raw_json_body = json.dumps(payload)\n",
    "# Send the GET request with Basic Auth\n",
    "response = requests.post(url, data=raw_json_body, auth=(username, password), headers={\"Content-Type\": \"application/json\"})\n",
    "# Check the response\n",
    "if response.status_code == 200:\n",
    "    # Successfully retrieved data\n",
    "    items_data = response.json()  # Parse JSON response\n",
    "    print(\"Data retrieved successfully:\")\n",
    "    print(items_data)\n",
    "else:\n",
    "    # Handle error\n",
    "    print(f\"Failed to retrieve data. HTTP Status Code: {response.status_code}\")\n",
    "    print(\"Response content:\", response.text)"
   ]
  },
  {
   "cell_type": "code",
   "execution_count": null,
   "metadata": {},
   "outputs": [],
   "source": [
    "items_data['data']"
   ]
  },
  {
   "cell_type": "markdown",
   "metadata": {},
   "source": [
    "### 4. Retrieve Meta for Statuses"
   ]
  },
  {
   "cell_type": "code",
   "execution_count": null,
   "metadata": {},
   "outputs": [],
   "source": [
    "# Example Request 6:\n",
    "\n",
    "import json\n",
    "import requests\n",
    "\n",
    "url = f'https://rest.kendis.io/api/{company_prefix}/statuses'\n",
    "# Define the body as a Python dictionary\n",
    "payload = {\n",
    "    \"boardId\": board_id\n",
    "}\n",
    "\n",
    "# Convert the dictionary to a raw JSON string\n",
    "raw_json_body = json.dumps(payload)\n",
    "# Send the GET request with Basic Auth\n",
    "response = requests.post(url, data=raw_json_body, auth=(username, password), headers={\"Content-Type\": \"application/json\"})\n",
    "# Check the response\n",
    "if response.status_code == 200:\n",
    "    # Successfully retrieved data\n",
    "    items_data = response.json()  # Parse JSON response\n",
    "    print(\"Data retrieved successfully:\")\n",
    "    print(items_data)\n",
    "else:\n",
    "    # Handle error\n",
    "    print(f\"Failed to retrieve data. HTTP Status Code: {response.status_code}\")\n",
    "    print(\"Response content:\", response.text)\n"
   ]
  },
  {
   "cell_type": "code",
   "execution_count": null,
   "metadata": {},
   "outputs": [],
   "source": [
    "items_data['data']"
   ]
  },
  {
   "cell_type": "code",
   "execution_count": null,
   "metadata": {},
   "outputs": [],
   "source": []
  },
  {
   "cell_type": "code",
   "execution_count": null,
   "metadata": {},
   "outputs": [],
   "source": []
  }
 ],
 "metadata": {
  "kernelspec": {
   "display_name": "crewai",
   "language": "python",
   "name": "python3"
  },
  "language_info": {
   "codemirror_mode": {
    "name": "ipython",
    "version": 3
   },
   "file_extension": ".py",
   "mimetype": "text/x-python",
   "name": "python",
   "nbconvert_exporter": "python",
   "pygments_lexer": "ipython3",
   "version": "3.11.11"
  }
 },
 "nbformat": 4,
 "nbformat_minor": 2
}
